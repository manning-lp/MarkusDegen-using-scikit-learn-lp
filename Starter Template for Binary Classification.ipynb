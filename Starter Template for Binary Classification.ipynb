{
  "cells": [
    {
      "cell_type": "code",
      "execution_count": null,
      "metadata": {
        "id": "9BosoVPUyDid"
      },
      "outputs": [],
      "source": [
        "# Authors: Stylianos Kampakis & Shreesha Jagadeesh\n",
        "# Test"
      ]
    },
    {
      "cell_type": "markdown",
      "metadata": {
        "id": "-9SJrsuCyDig"
      },
      "source": [
        "### Purpose"
      ]
    },
    {
      "cell_type": "markdown",
      "metadata": {
        "id": "Qq2nD6JWyDih"
      },
      "source": [
        "This notebook is meant to give a general overview for creating a binary classifier on an imbalanced datasets using familiar sklearn-based ML algorithms.\n",
        "The dataset is given here https://www.kaggle.com/mlg-ulb/creditcardfraud\n",
        "\n",
        "Also the notebook contains useful functions that will be used to explore the kind of datasets used in this LiveProjects. Students are encouraged to familiarize themselves with the coding style as well as the concepts covered in this notebook becasue these will be referred to throughout the course.\n",
        "    "
      ]
    },
    {
      "cell_type": "markdown",
      "metadata": {
        "id": "unEgobb2yDii"
      },
      "source": [
        "<a id=\"top\"></a> <br>\n",
        "## Table of  Contents\n",
        "1. [Introduction](#1)\n",
        "\n",
        "1. [Initialization](#2)\n",
        "    1. [Load packages](#21)\n",
        "    1. [Define Metadata](#22)\n",
        "    \n",
        "1. [Load Data](#3)\n",
        "\n",
        "1. [Data Insights](#4)\n",
        "    1. [Data Structure](#41)\n",
        "    1. [Summary Stats](#42)\n",
        "    1. [Unique Value Checking](#43)\n",
        "    1. [Identifying 'Bad Columns'](#44)\n",
        "\n",
        "1. [Data Cleansing](#5)\n",
        "    1. [Data Reduction](#51)\n",
        "        1. [Dropping Bad Columns](#511)\n",
        "        1. [Null Value Removal](#512)\n",
        "\n",
        "1. [Modelling Workflow](#6)\n",
        "    1. [Data Prep](#61)\n",
        "        1. [Feature Target Split](#611)\n",
        "        1. [Train-Test Split](#612)\n",
        "        1. [Normalizing Numerical Variables](#613)\n",
        "    1. [Estimate of Baseline Accuracy - Class Distributions](#62)\n",
        "    1. [Predictive Modelling](#63)\n",
        "        1. [Modelling with Random Forest](#631)\n",
        "        1. [Model Comparison](#632)\n",
        "  "
      ]
    },
    {
      "cell_type": "markdown",
      "metadata": {
        "id": "l8fknqTFyDii"
      },
      "source": [
        "## <a id='1'>Introduction</a>  \n",
        "\n",
        "Assume you work for a financial institution that issues credit cards to customers. Once the credit card is in the hands of the customers, it is important that the customer is alerted and the card possibly blocked upon the detection of fraudulent transactions. In this dataset, we deal with anonymized data from a Kaggle competition containing credit card transactions.\n",
        "\n",
        "\"The datasets contains transactions made by credit cards in September 2013 by european cardholders. This dataset presents transactions that occurred in two days, where we have 492 frauds out of 284,807 transactions. The dataset is highly unbalanced, the positive class (frauds) account for 0.172% of all transactions.\n",
        "\n",
        "It contains only numerical input variables which are the result of a PCA transformation. Unfortunately, due to confidentiality issues, we cannot provide the original features and more background information about the data. Features V1, V2, … V28 are the principal components obtained with PCA, the only features which have not been transformed with PCA are 'Time' and 'Amount'. Feature 'Time' contains the seconds elapsed between each transaction and the first transaction in the dataset. The feature 'Amount' is the transaction Amount, this feature can be used for example-dependant cost-senstive learning. Feature 'Class' is the response variable and it takes value 1 in case of fraud and 0 otherwise.\"\n",
        "\n",
        "We will be loading the data and applying some basic checks to see if the data needs to cleaned. Subsequently, we will use a RandomForestClassifier to fit on the train and predict on the test data. A custom function is used to evaluate the model performance\n"
      ]
    },
    {
      "cell_type": "markdown",
      "metadata": {
        "id": "dvx8PPFxyDij"
      },
      "source": [
        "## <a id='2'>Initialization</a>  "
      ]
    },
    {
      "cell_type": "markdown",
      "metadata": {
        "id": "w2euFaRqyDij"
      },
      "source": [
        "### <a id='21'>Load Packages</a>  "
      ]
    },
    {
      "cell_type": "markdown",
      "metadata": {
        "id": "oKmBTtSJyDij"
      },
      "source": [
        "Load the minimum number of packages to get started and add more as we go along"
      ]
    },
    {
      "cell_type": "code",
      "execution_count": null,
      "metadata": {
        "id": "IENfwMnfyDik"
      },
      "outputs": [],
      "source": [
        "import pandas as pd\n",
        "import numpy as np\n",
        "\n",
        "import matplotlib.pyplot as plt\n",
        "%matplotlib inline\n",
        "\n",
        "import scipy\n",
        "from scipy.io.arff import loadarff\n",
        "\n",
        "from sklearn.linear_model import LogisticRegression\n",
        "from sklearn.ensemble import RandomForestClassifier\n",
        "from sklearn.naive_bayes import GaussianNB\n",
        "\n",
        "from sklearn.metrics import classification_report\n",
        "from sklearn.model_selection import cross_val_predict\n",
        "\n",
        "import warnings\n",
        "warnings.filterwarnings('ignore')\n",
        "# This is to suppress any deprecation warnings\n",
        "\n",
        "import os\n",
        "import sys"
      ]
    },
    {
      "cell_type": "markdown",
      "metadata": {
        "id": "h_kaagkhyDik"
      },
      "source": [
        "### <a id='22'>Define Metadata</a>  "
      ]
    },
    {
      "cell_type": "code",
      "execution_count": null,
      "metadata": {
        "id": "yYMfNDckyDik"
      },
      "outputs": [],
      "source": [
        "# Define the name of the target class column here instead of manually typing it out everywhere\n",
        "target_class_name = 'Class'\n",
        "\n",
        "# Fill in the names of what you want to call the 0 and 1 class\n",
        "labels = ['Not Fraud', 'Fraud']\n",
        "\n",
        "input_file_name = 'creditcard.csv'\n",
        "raw_data_folder = '../data/raw/'\n",
        "\n",
        "# Enter the date in which this notebook is run\n",
        "export_date = '20211016'\n"
      ]
    },
    {
      "cell_type": "markdown",
      "metadata": {
        "id": "IWlqETiyyDik"
      },
      "source": [
        "## <a id='3'>Load Data</a>  "
      ]
    },
    {
      "cell_type": "code",
      "execution_count": null,
      "metadata": {
        "scrolled": true,
        "id": "FBzOu6GzyDil",
        "outputId": "fe075ed1-1ff1-4fe0-a476-62ffcd01614e"
      },
      "outputs": [
        {
          "data": {
            "text/html": [
              "<div>\n",
              "<style scoped>\n",
              "    .dataframe tbody tr th:only-of-type {\n",
              "        vertical-align: middle;\n",
              "    }\n",
              "\n",
              "    .dataframe tbody tr th {\n",
              "        vertical-align: top;\n",
              "    }\n",
              "\n",
              "    .dataframe thead th {\n",
              "        text-align: right;\n",
              "    }\n",
              "</style>\n",
              "<table border=\"1\" class=\"dataframe\">\n",
              "  <thead>\n",
              "    <tr style=\"text-align: right;\">\n",
              "      <th></th>\n",
              "      <th>Time</th>\n",
              "      <th>V1</th>\n",
              "      <th>V2</th>\n",
              "      <th>V3</th>\n",
              "      <th>V4</th>\n",
              "      <th>V5</th>\n",
              "      <th>V6</th>\n",
              "      <th>V7</th>\n",
              "      <th>V8</th>\n",
              "      <th>V9</th>\n",
              "      <th>...</th>\n",
              "      <th>V21</th>\n",
              "      <th>V22</th>\n",
              "      <th>V23</th>\n",
              "      <th>V24</th>\n",
              "      <th>V25</th>\n",
              "      <th>V26</th>\n",
              "      <th>V27</th>\n",
              "      <th>V28</th>\n",
              "      <th>Amount</th>\n",
              "      <th>Class</th>\n",
              "    </tr>\n",
              "  </thead>\n",
              "  <tbody>\n",
              "    <tr>\n",
              "      <th>100497</th>\n",
              "      <td>67534.0</td>\n",
              "      <td>1.188329</td>\n",
              "      <td>0.489533</td>\n",
              "      <td>0.877596</td>\n",
              "      <td>2.389036</td>\n",
              "      <td>-0.177832</td>\n",
              "      <td>0.001405</td>\n",
              "      <td>-0.161470</td>\n",
              "      <td>-0.035561</td>\n",
              "      <td>-0.572517</td>\n",
              "      <td>...</td>\n",
              "      <td>0.123360</td>\n",
              "      <td>0.386180</td>\n",
              "      <td>-0.137046</td>\n",
              "      <td>-0.087011</td>\n",
              "      <td>0.534471</td>\n",
              "      <td>0.124331</td>\n",
              "      <td>0.017878</td>\n",
              "      <td>0.027897</td>\n",
              "      <td>10.59</td>\n",
              "      <td>0</td>\n",
              "    </tr>\n",
              "    <tr>\n",
              "      <th>170150</th>\n",
              "      <td>120040.0</td>\n",
              "      <td>-0.216632</td>\n",
              "      <td>1.121351</td>\n",
              "      <td>-0.966335</td>\n",
              "      <td>-0.704230</td>\n",
              "      <td>0.733561</td>\n",
              "      <td>-0.329297</td>\n",
              "      <td>0.456887</td>\n",
              "      <td>0.556120</td>\n",
              "      <td>-0.268716</td>\n",
              "      <td>...</td>\n",
              "      <td>-0.285199</td>\n",
              "      <td>-0.911847</td>\n",
              "      <td>0.120407</td>\n",
              "      <td>0.055926</td>\n",
              "      <td>-0.404667</td>\n",
              "      <td>0.128158</td>\n",
              "      <td>0.081528</td>\n",
              "      <td>0.005863</td>\n",
              "      <td>12.99</td>\n",
              "      <td>0</td>\n",
              "    </tr>\n",
              "    <tr>\n",
              "      <th>58654</th>\n",
              "      <td>48488.0</td>\n",
              "      <td>1.267161</td>\n",
              "      <td>-0.975796</td>\n",
              "      <td>0.720776</td>\n",
              "      <td>-0.699352</td>\n",
              "      <td>-1.048381</td>\n",
              "      <td>0.472982</td>\n",
              "      <td>-1.145503</td>\n",
              "      <td>0.162709</td>\n",
              "      <td>-0.106972</td>\n",
              "      <td>...</td>\n",
              "      <td>0.317847</td>\n",
              "      <td>0.926817</td>\n",
              "      <td>-0.230796</td>\n",
              "      <td>-0.701050</td>\n",
              "      <td>0.488441</td>\n",
              "      <td>0.028359</td>\n",
              "      <td>0.057497</td>\n",
              "      <td>0.024025</td>\n",
              "      <td>65.00</td>\n",
              "      <td>0</td>\n",
              "    </tr>\n",
              "    <tr>\n",
              "      <th>158333</th>\n",
              "      <td>111131.0</td>\n",
              "      <td>2.085206</td>\n",
              "      <td>0.099247</td>\n",
              "      <td>-1.518730</td>\n",
              "      <td>0.117877</td>\n",
              "      <td>0.726607</td>\n",
              "      <td>-0.176832</td>\n",
              "      <td>0.032173</td>\n",
              "      <td>-0.252337</td>\n",
              "      <td>1.650227</td>\n",
              "      <td>...</td>\n",
              "      <td>0.138392</td>\n",
              "      <td>0.815383</td>\n",
              "      <td>-0.075766</td>\n",
              "      <td>0.084282</td>\n",
              "      <td>0.418198</td>\n",
              "      <td>-0.476203</td>\n",
              "      <td>-0.020463</td>\n",
              "      <td>-0.067276</td>\n",
              "      <td>1.00</td>\n",
              "      <td>0</td>\n",
              "    </tr>\n",
              "    <tr>\n",
              "      <th>144401</th>\n",
              "      <td>86094.0</td>\n",
              "      <td>1.278797</td>\n",
              "      <td>-0.392317</td>\n",
              "      <td>-0.168043</td>\n",
              "      <td>-0.413734</td>\n",
              "      <td>0.169098</td>\n",
              "      <td>0.945636</td>\n",
              "      <td>-0.488102</td>\n",
              "      <td>0.352180</td>\n",
              "      <td>0.769537</td>\n",
              "      <td>...</td>\n",
              "      <td>-0.372016</td>\n",
              "      <td>-0.985592</td>\n",
              "      <td>-0.078870</td>\n",
              "      <td>-1.681158</td>\n",
              "      <td>0.270147</td>\n",
              "      <td>0.977401</td>\n",
              "      <td>-0.066944</td>\n",
              "      <td>-0.026699</td>\n",
              "      <td>13.69</td>\n",
              "      <td>0</td>\n",
              "    </tr>\n",
              "  </tbody>\n",
              "</table>\n",
              "<p>5 rows × 31 columns</p>\n",
              "</div>"
            ],
            "text/plain": [
              "            Time        V1        V2        V3        V4        V5        V6  \\\n",
              "100497   67534.0  1.188329  0.489533  0.877596  2.389036 -0.177832  0.001405   \n",
              "170150  120040.0 -0.216632  1.121351 -0.966335 -0.704230  0.733561 -0.329297   \n",
              "58654    48488.0  1.267161 -0.975796  0.720776 -0.699352 -1.048381  0.472982   \n",
              "158333  111131.0  2.085206  0.099247 -1.518730  0.117877  0.726607 -0.176832   \n",
              "144401   86094.0  1.278797 -0.392317 -0.168043 -0.413734  0.169098  0.945636   \n",
              "\n",
              "              V7        V8        V9  ...       V21       V22       V23  \\\n",
              "100497 -0.161470 -0.035561 -0.572517  ...  0.123360  0.386180 -0.137046   \n",
              "170150  0.456887  0.556120 -0.268716  ... -0.285199 -0.911847  0.120407   \n",
              "58654  -1.145503  0.162709 -0.106972  ...  0.317847  0.926817 -0.230796   \n",
              "158333  0.032173 -0.252337  1.650227  ...  0.138392  0.815383 -0.075766   \n",
              "144401 -0.488102  0.352180  0.769537  ... -0.372016 -0.985592 -0.078870   \n",
              "\n",
              "             V24       V25       V26       V27       V28  Amount  Class  \n",
              "100497 -0.087011  0.534471  0.124331  0.017878  0.027897   10.59      0  \n",
              "170150  0.055926 -0.404667  0.128158  0.081528  0.005863   12.99      0  \n",
              "58654  -0.701050  0.488441  0.028359  0.057497  0.024025   65.00      0  \n",
              "158333  0.084282  0.418198 -0.476203 -0.020463 -0.067276    1.00      0  \n",
              "144401 -1.681158  0.270147  0.977401 -0.066944 -0.026699   13.69      0  \n",
              "\n",
              "[5 rows x 31 columns]"
            ]
          },
          "execution_count": 4,
          "metadata": {},
          "output_type": "execute_result"
        }
      ],
      "source": [
        "# Read the data from the raw sub-folder within the data folder\n",
        "df = pd.read_csv(raw_data_folder + input_file_name)\n",
        "\n",
        "# Take a random sample to see how the data looks like\n",
        "df.sample(5)"
      ]
    },
    {
      "cell_type": "markdown",
      "metadata": {
        "id": "SvmJNJBKyDil"
      },
      "source": [
        "Lets check the head & tail to make sure there is nothing going on"
      ]
    },
    {
      "cell_type": "code",
      "execution_count": null,
      "metadata": {
        "id": "cwBZHyiayDil",
        "outputId": "928fb26c-d5b4-41d1-87f5-9585d358d2ca"
      },
      "outputs": [
        {
          "data": {
            "text/html": [
              "<div>\n",
              "<style scoped>\n",
              "    .dataframe tbody tr th:only-of-type {\n",
              "        vertical-align: middle;\n",
              "    }\n",
              "\n",
              "    .dataframe tbody tr th {\n",
              "        vertical-align: top;\n",
              "    }\n",
              "\n",
              "    .dataframe thead th {\n",
              "        text-align: right;\n",
              "    }\n",
              "</style>\n",
              "<table border=\"1\" class=\"dataframe\">\n",
              "  <thead>\n",
              "    <tr style=\"text-align: right;\">\n",
              "      <th></th>\n",
              "      <th>Time</th>\n",
              "      <th>V1</th>\n",
              "      <th>V2</th>\n",
              "      <th>V3</th>\n",
              "      <th>V4</th>\n",
              "      <th>V5</th>\n",
              "      <th>V6</th>\n",
              "      <th>V7</th>\n",
              "      <th>V8</th>\n",
              "      <th>V9</th>\n",
              "      <th>...</th>\n",
              "      <th>V21</th>\n",
              "      <th>V22</th>\n",
              "      <th>V23</th>\n",
              "      <th>V24</th>\n",
              "      <th>V25</th>\n",
              "      <th>V26</th>\n",
              "      <th>V27</th>\n",
              "      <th>V28</th>\n",
              "      <th>Amount</th>\n",
              "      <th>Class</th>\n",
              "    </tr>\n",
              "  </thead>\n",
              "  <tbody>\n",
              "    <tr>\n",
              "      <th>0</th>\n",
              "      <td>0.0</td>\n",
              "      <td>-1.359807</td>\n",
              "      <td>-0.072781</td>\n",
              "      <td>2.536347</td>\n",
              "      <td>1.378155</td>\n",
              "      <td>-0.338321</td>\n",
              "      <td>0.462388</td>\n",
              "      <td>0.239599</td>\n",
              "      <td>0.098698</td>\n",
              "      <td>0.363787</td>\n",
              "      <td>...</td>\n",
              "      <td>-0.018307</td>\n",
              "      <td>0.277838</td>\n",
              "      <td>-0.110474</td>\n",
              "      <td>0.066928</td>\n",
              "      <td>0.128539</td>\n",
              "      <td>-0.189115</td>\n",
              "      <td>0.133558</td>\n",
              "      <td>-0.021053</td>\n",
              "      <td>149.62</td>\n",
              "      <td>0</td>\n",
              "    </tr>\n",
              "    <tr>\n",
              "      <th>1</th>\n",
              "      <td>0.0</td>\n",
              "      <td>1.191857</td>\n",
              "      <td>0.266151</td>\n",
              "      <td>0.166480</td>\n",
              "      <td>0.448154</td>\n",
              "      <td>0.060018</td>\n",
              "      <td>-0.082361</td>\n",
              "      <td>-0.078803</td>\n",
              "      <td>0.085102</td>\n",
              "      <td>-0.255425</td>\n",
              "      <td>...</td>\n",
              "      <td>-0.225775</td>\n",
              "      <td>-0.638672</td>\n",
              "      <td>0.101288</td>\n",
              "      <td>-0.339846</td>\n",
              "      <td>0.167170</td>\n",
              "      <td>0.125895</td>\n",
              "      <td>-0.008983</td>\n",
              "      <td>0.014724</td>\n",
              "      <td>2.69</td>\n",
              "      <td>0</td>\n",
              "    </tr>\n",
              "    <tr>\n",
              "      <th>2</th>\n",
              "      <td>1.0</td>\n",
              "      <td>-1.358354</td>\n",
              "      <td>-1.340163</td>\n",
              "      <td>1.773209</td>\n",
              "      <td>0.379780</td>\n",
              "      <td>-0.503198</td>\n",
              "      <td>1.800499</td>\n",
              "      <td>0.791461</td>\n",
              "      <td>0.247676</td>\n",
              "      <td>-1.514654</td>\n",
              "      <td>...</td>\n",
              "      <td>0.247998</td>\n",
              "      <td>0.771679</td>\n",
              "      <td>0.909412</td>\n",
              "      <td>-0.689281</td>\n",
              "      <td>-0.327642</td>\n",
              "      <td>-0.139097</td>\n",
              "      <td>-0.055353</td>\n",
              "      <td>-0.059752</td>\n",
              "      <td>378.66</td>\n",
              "      <td>0</td>\n",
              "    </tr>\n",
              "  </tbody>\n",
              "</table>\n",
              "<p>3 rows × 31 columns</p>\n",
              "</div>"
            ],
            "text/plain": [
              "   Time        V1        V2        V3        V4        V5        V6        V7  \\\n",
              "0   0.0 -1.359807 -0.072781  2.536347  1.378155 -0.338321  0.462388  0.239599   \n",
              "1   0.0  1.191857  0.266151  0.166480  0.448154  0.060018 -0.082361 -0.078803   \n",
              "2   1.0 -1.358354 -1.340163  1.773209  0.379780 -0.503198  1.800499  0.791461   \n",
              "\n",
              "         V8        V9  ...       V21       V22       V23       V24       V25  \\\n",
              "0  0.098698  0.363787  ... -0.018307  0.277838 -0.110474  0.066928  0.128539   \n",
              "1  0.085102 -0.255425  ... -0.225775 -0.638672  0.101288 -0.339846  0.167170   \n",
              "2  0.247676 -1.514654  ...  0.247998  0.771679  0.909412 -0.689281 -0.327642   \n",
              "\n",
              "        V26       V27       V28  Amount  Class  \n",
              "0 -0.189115  0.133558 -0.021053  149.62      0  \n",
              "1  0.125895 -0.008983  0.014724    2.69      0  \n",
              "2 -0.139097 -0.055353 -0.059752  378.66      0  \n",
              "\n",
              "[3 rows x 31 columns]"
            ]
          },
          "execution_count": 5,
          "metadata": {},
          "output_type": "execute_result"
        }
      ],
      "source": [
        "df.head(3)"
      ]
    },
    {
      "cell_type": "code",
      "execution_count": null,
      "metadata": {
        "id": "Ie6VPpfLyDil",
        "outputId": "3e161ec0-5624-4317-f8c1-aef902215177"
      },
      "outputs": [
        {
          "data": {
            "text/html": [
              "<div>\n",
              "<style scoped>\n",
              "    .dataframe tbody tr th:only-of-type {\n",
              "        vertical-align: middle;\n",
              "    }\n",
              "\n",
              "    .dataframe tbody tr th {\n",
              "        vertical-align: top;\n",
              "    }\n",
              "\n",
              "    .dataframe thead th {\n",
              "        text-align: right;\n",
              "    }\n",
              "</style>\n",
              "<table border=\"1\" class=\"dataframe\">\n",
              "  <thead>\n",
              "    <tr style=\"text-align: right;\">\n",
              "      <th></th>\n",
              "      <th>Time</th>\n",
              "      <th>V1</th>\n",
              "      <th>V2</th>\n",
              "      <th>V3</th>\n",
              "      <th>V4</th>\n",
              "      <th>V5</th>\n",
              "      <th>V6</th>\n",
              "      <th>V7</th>\n",
              "      <th>V8</th>\n",
              "      <th>V9</th>\n",
              "      <th>...</th>\n",
              "      <th>V21</th>\n",
              "      <th>V22</th>\n",
              "      <th>V23</th>\n",
              "      <th>V24</th>\n",
              "      <th>V25</th>\n",
              "      <th>V26</th>\n",
              "      <th>V27</th>\n",
              "      <th>V28</th>\n",
              "      <th>Amount</th>\n",
              "      <th>Class</th>\n",
              "    </tr>\n",
              "  </thead>\n",
              "  <tbody>\n",
              "    <tr>\n",
              "      <th>284804</th>\n",
              "      <td>172788.0</td>\n",
              "      <td>1.919565</td>\n",
              "      <td>-0.301254</td>\n",
              "      <td>-3.249640</td>\n",
              "      <td>-0.557828</td>\n",
              "      <td>2.630515</td>\n",
              "      <td>3.031260</td>\n",
              "      <td>-0.296827</td>\n",
              "      <td>0.708417</td>\n",
              "      <td>0.432454</td>\n",
              "      <td>...</td>\n",
              "      <td>0.232045</td>\n",
              "      <td>0.578229</td>\n",
              "      <td>-0.037501</td>\n",
              "      <td>0.640134</td>\n",
              "      <td>0.265745</td>\n",
              "      <td>-0.087371</td>\n",
              "      <td>0.004455</td>\n",
              "      <td>-0.026561</td>\n",
              "      <td>67.88</td>\n",
              "      <td>0</td>\n",
              "    </tr>\n",
              "    <tr>\n",
              "      <th>284805</th>\n",
              "      <td>172788.0</td>\n",
              "      <td>-0.240440</td>\n",
              "      <td>0.530483</td>\n",
              "      <td>0.702510</td>\n",
              "      <td>0.689799</td>\n",
              "      <td>-0.377961</td>\n",
              "      <td>0.623708</td>\n",
              "      <td>-0.686180</td>\n",
              "      <td>0.679145</td>\n",
              "      <td>0.392087</td>\n",
              "      <td>...</td>\n",
              "      <td>0.265245</td>\n",
              "      <td>0.800049</td>\n",
              "      <td>-0.163298</td>\n",
              "      <td>0.123205</td>\n",
              "      <td>-0.569159</td>\n",
              "      <td>0.546668</td>\n",
              "      <td>0.108821</td>\n",
              "      <td>0.104533</td>\n",
              "      <td>10.00</td>\n",
              "      <td>0</td>\n",
              "    </tr>\n",
              "    <tr>\n",
              "      <th>284806</th>\n",
              "      <td>172792.0</td>\n",
              "      <td>-0.533413</td>\n",
              "      <td>-0.189733</td>\n",
              "      <td>0.703337</td>\n",
              "      <td>-0.506271</td>\n",
              "      <td>-0.012546</td>\n",
              "      <td>-0.649617</td>\n",
              "      <td>1.577006</td>\n",
              "      <td>-0.414650</td>\n",
              "      <td>0.486180</td>\n",
              "      <td>...</td>\n",
              "      <td>0.261057</td>\n",
              "      <td>0.643078</td>\n",
              "      <td>0.376777</td>\n",
              "      <td>0.008797</td>\n",
              "      <td>-0.473649</td>\n",
              "      <td>-0.818267</td>\n",
              "      <td>-0.002415</td>\n",
              "      <td>0.013649</td>\n",
              "      <td>217.00</td>\n",
              "      <td>0</td>\n",
              "    </tr>\n",
              "  </tbody>\n",
              "</table>\n",
              "<p>3 rows × 31 columns</p>\n",
              "</div>"
            ],
            "text/plain": [
              "            Time        V1        V2        V3        V4        V5        V6  \\\n",
              "284804  172788.0  1.919565 -0.301254 -3.249640 -0.557828  2.630515  3.031260   \n",
              "284805  172788.0 -0.240440  0.530483  0.702510  0.689799 -0.377961  0.623708   \n",
              "284806  172792.0 -0.533413 -0.189733  0.703337 -0.506271 -0.012546 -0.649617   \n",
              "\n",
              "              V7        V8        V9  ...       V21       V22       V23  \\\n",
              "284804 -0.296827  0.708417  0.432454  ...  0.232045  0.578229 -0.037501   \n",
              "284805 -0.686180  0.679145  0.392087  ...  0.265245  0.800049 -0.163298   \n",
              "284806  1.577006 -0.414650  0.486180  ...  0.261057  0.643078  0.376777   \n",
              "\n",
              "             V24       V25       V26       V27       V28  Amount  Class  \n",
              "284804  0.640134  0.265745 -0.087371  0.004455 -0.026561   67.88      0  \n",
              "284805  0.123205 -0.569159  0.546668  0.108821  0.104533   10.00      0  \n",
              "284806  0.008797 -0.473649 -0.818267 -0.002415  0.013649  217.00      0  \n",
              "\n",
              "[3 rows x 31 columns]"
            ]
          },
          "execution_count": 6,
          "metadata": {},
          "output_type": "execute_result"
        }
      ],
      "source": [
        "df.tail(3)"
      ]
    },
    {
      "cell_type": "markdown",
      "metadata": {
        "id": "WuOQGntJyDim"
      },
      "source": [
        "No trouble with loading the data. Both the head and tail are clean"
      ]
    },
    {
      "cell_type": "markdown",
      "metadata": {
        "id": "kbRGE6QUyDim"
      },
      "source": [
        "## <a id=4 > Data Insights"
      ]
    },
    {
      "cell_type": "markdown",
      "metadata": {
        "id": "0tnhv5tVyDim"
      },
      "source": [
        "### <a id='41'>Data Structure</a>"
      ]
    },
    {
      "cell_type": "code",
      "execution_count": null,
      "metadata": {
        "scrolled": false,
        "id": "tGl53Ln6yDim",
        "outputId": "e3b240c4-3b15-4cc1-de6f-f1bfdd6db1d1"
      },
      "outputs": [
        {
          "name": "stdout",
          "output_type": "stream",
          "text": [
            "<class 'pandas.core.frame.DataFrame'>\n",
            "RangeIndex: 284807 entries, 0 to 284806\n",
            "Data columns (total 31 columns):\n",
            " #   Column  Non-Null Count   Dtype  \n",
            "---  ------  --------------   -----  \n",
            " 0   Time    284807 non-null  float64\n",
            " 1   V1      284807 non-null  float64\n",
            " 2   V2      284807 non-null  float64\n",
            " 3   V3      284807 non-null  float64\n",
            " 4   V4      284807 non-null  float64\n",
            " 5   V5      284807 non-null  float64\n",
            " 6   V6      284807 non-null  float64\n",
            " 7   V7      284807 non-null  float64\n",
            " 8   V8      284807 non-null  float64\n",
            " 9   V9      284807 non-null  float64\n",
            " 10  V10     284807 non-null  float64\n",
            " 11  V11     284807 non-null  float64\n",
            " 12  V12     284807 non-null  float64\n",
            " 13  V13     284807 non-null  float64\n",
            " 14  V14     284807 non-null  float64\n",
            " 15  V15     284807 non-null  float64\n",
            " 16  V16     284807 non-null  float64\n",
            " 17  V17     284807 non-null  float64\n",
            " 18  V18     284807 non-null  float64\n",
            " 19  V19     284807 non-null  float64\n",
            " 20  V20     284807 non-null  float64\n",
            " 21  V21     284807 non-null  float64\n",
            " 22  V22     284807 non-null  float64\n",
            " 23  V23     284807 non-null  float64\n",
            " 24  V24     284807 non-null  float64\n",
            " 25  V25     284807 non-null  float64\n",
            " 26  V26     284807 non-null  float64\n",
            " 27  V27     284807 non-null  float64\n",
            " 28  V28     284807 non-null  float64\n",
            " 29  Amount  284807 non-null  float64\n",
            " 30  Class   284807 non-null  int64  \n",
            "dtypes: float64(30), int64(1)\n",
            "memory usage: 67.4 MB\n"
          ]
        }
      ],
      "source": [
        "# Lets see the data structure\n",
        "df.info()\n",
        "# This will give you how many rows & columns are there"
      ]
    },
    {
      "cell_type": "markdown",
      "metadata": {
        "id": "SJ-DZKKnyDim"
      },
      "source": [
        "None of the columns have null values"
      ]
    },
    {
      "cell_type": "markdown",
      "metadata": {
        "id": "7UzFKmbsyDim"
      },
      "source": [
        "### <a id='42'>Summary Stats</a>"
      ]
    },
    {
      "cell_type": "code",
      "execution_count": null,
      "metadata": {
        "id": "wz-KIibJyDim",
        "outputId": "db4527cb-8217-4c5b-ae4b-551e7af43c10"
      },
      "outputs": [
        {
          "data": {
            "text/html": [
              "<div>\n",
              "<style scoped>\n",
              "    .dataframe tbody tr th:only-of-type {\n",
              "        vertical-align: middle;\n",
              "    }\n",
              "\n",
              "    .dataframe tbody tr th {\n",
              "        vertical-align: top;\n",
              "    }\n",
              "\n",
              "    .dataframe thead th {\n",
              "        text-align: right;\n",
              "    }\n",
              "</style>\n",
              "<table border=\"1\" class=\"dataframe\">\n",
              "  <thead>\n",
              "    <tr style=\"text-align: right;\">\n",
              "      <th></th>\n",
              "      <th>Time</th>\n",
              "      <th>V1</th>\n",
              "      <th>V2</th>\n",
              "      <th>V3</th>\n",
              "      <th>V4</th>\n",
              "      <th>V5</th>\n",
              "      <th>V6</th>\n",
              "      <th>V7</th>\n",
              "      <th>V8</th>\n",
              "      <th>V9</th>\n",
              "      <th>...</th>\n",
              "      <th>V21</th>\n",
              "      <th>V22</th>\n",
              "      <th>V23</th>\n",
              "      <th>V24</th>\n",
              "      <th>V25</th>\n",
              "      <th>V26</th>\n",
              "      <th>V27</th>\n",
              "      <th>V28</th>\n",
              "      <th>Amount</th>\n",
              "      <th>Class</th>\n",
              "    </tr>\n",
              "  </thead>\n",
              "  <tbody>\n",
              "    <tr>\n",
              "      <th>count</th>\n",
              "      <td>284807.000000</td>\n",
              "      <td>2.848070e+05</td>\n",
              "      <td>2.848070e+05</td>\n",
              "      <td>2.848070e+05</td>\n",
              "      <td>2.848070e+05</td>\n",
              "      <td>2.848070e+05</td>\n",
              "      <td>2.848070e+05</td>\n",
              "      <td>2.848070e+05</td>\n",
              "      <td>2.848070e+05</td>\n",
              "      <td>2.848070e+05</td>\n",
              "      <td>...</td>\n",
              "      <td>2.848070e+05</td>\n",
              "      <td>2.848070e+05</td>\n",
              "      <td>2.848070e+05</td>\n",
              "      <td>2.848070e+05</td>\n",
              "      <td>2.848070e+05</td>\n",
              "      <td>2.848070e+05</td>\n",
              "      <td>2.848070e+05</td>\n",
              "      <td>2.848070e+05</td>\n",
              "      <td>284807.000000</td>\n",
              "      <td>284807.000000</td>\n",
              "    </tr>\n",
              "    <tr>\n",
              "      <th>mean</th>\n",
              "      <td>94813.859575</td>\n",
              "      <td>3.918649e-15</td>\n",
              "      <td>5.682686e-16</td>\n",
              "      <td>-8.761736e-15</td>\n",
              "      <td>2.811118e-15</td>\n",
              "      <td>-1.552103e-15</td>\n",
              "      <td>2.040130e-15</td>\n",
              "      <td>-1.698953e-15</td>\n",
              "      <td>-1.893285e-16</td>\n",
              "      <td>-3.147640e-15</td>\n",
              "      <td>...</td>\n",
              "      <td>1.473120e-16</td>\n",
              "      <td>8.042109e-16</td>\n",
              "      <td>5.282512e-16</td>\n",
              "      <td>4.456271e-15</td>\n",
              "      <td>1.426896e-15</td>\n",
              "      <td>1.701640e-15</td>\n",
              "      <td>-3.662252e-16</td>\n",
              "      <td>-1.217809e-16</td>\n",
              "      <td>88.349619</td>\n",
              "      <td>0.001727</td>\n",
              "    </tr>\n",
              "    <tr>\n",
              "      <th>std</th>\n",
              "      <td>47488.145955</td>\n",
              "      <td>1.958696e+00</td>\n",
              "      <td>1.651309e+00</td>\n",
              "      <td>1.516255e+00</td>\n",
              "      <td>1.415869e+00</td>\n",
              "      <td>1.380247e+00</td>\n",
              "      <td>1.332271e+00</td>\n",
              "      <td>1.237094e+00</td>\n",
              "      <td>1.194353e+00</td>\n",
              "      <td>1.098632e+00</td>\n",
              "      <td>...</td>\n",
              "      <td>7.345240e-01</td>\n",
              "      <td>7.257016e-01</td>\n",
              "      <td>6.244603e-01</td>\n",
              "      <td>6.056471e-01</td>\n",
              "      <td>5.212781e-01</td>\n",
              "      <td>4.822270e-01</td>\n",
              "      <td>4.036325e-01</td>\n",
              "      <td>3.300833e-01</td>\n",
              "      <td>250.120109</td>\n",
              "      <td>0.041527</td>\n",
              "    </tr>\n",
              "    <tr>\n",
              "      <th>min</th>\n",
              "      <td>0.000000</td>\n",
              "      <td>-5.640751e+01</td>\n",
              "      <td>-7.271573e+01</td>\n",
              "      <td>-4.832559e+01</td>\n",
              "      <td>-5.683171e+00</td>\n",
              "      <td>-1.137433e+02</td>\n",
              "      <td>-2.616051e+01</td>\n",
              "      <td>-4.355724e+01</td>\n",
              "      <td>-7.321672e+01</td>\n",
              "      <td>-1.343407e+01</td>\n",
              "      <td>...</td>\n",
              "      <td>-3.483038e+01</td>\n",
              "      <td>-1.093314e+01</td>\n",
              "      <td>-4.480774e+01</td>\n",
              "      <td>-2.836627e+00</td>\n",
              "      <td>-1.029540e+01</td>\n",
              "      <td>-2.604551e+00</td>\n",
              "      <td>-2.256568e+01</td>\n",
              "      <td>-1.543008e+01</td>\n",
              "      <td>0.000000</td>\n",
              "      <td>0.000000</td>\n",
              "    </tr>\n",
              "    <tr>\n",
              "      <th>25%</th>\n",
              "      <td>54201.500000</td>\n",
              "      <td>-9.203734e-01</td>\n",
              "      <td>-5.985499e-01</td>\n",
              "      <td>-8.903648e-01</td>\n",
              "      <td>-8.486401e-01</td>\n",
              "      <td>-6.915971e-01</td>\n",
              "      <td>-7.682956e-01</td>\n",
              "      <td>-5.540759e-01</td>\n",
              "      <td>-2.086297e-01</td>\n",
              "      <td>-6.430976e-01</td>\n",
              "      <td>...</td>\n",
              "      <td>-2.283949e-01</td>\n",
              "      <td>-5.423504e-01</td>\n",
              "      <td>-1.618463e-01</td>\n",
              "      <td>-3.545861e-01</td>\n",
              "      <td>-3.171451e-01</td>\n",
              "      <td>-3.269839e-01</td>\n",
              "      <td>-7.083953e-02</td>\n",
              "      <td>-5.295979e-02</td>\n",
              "      <td>5.600000</td>\n",
              "      <td>0.000000</td>\n",
              "    </tr>\n",
              "    <tr>\n",
              "      <th>50%</th>\n",
              "      <td>84692.000000</td>\n",
              "      <td>1.810880e-02</td>\n",
              "      <td>6.548556e-02</td>\n",
              "      <td>1.798463e-01</td>\n",
              "      <td>-1.984653e-02</td>\n",
              "      <td>-5.433583e-02</td>\n",
              "      <td>-2.741871e-01</td>\n",
              "      <td>4.010308e-02</td>\n",
              "      <td>2.235804e-02</td>\n",
              "      <td>-5.142873e-02</td>\n",
              "      <td>...</td>\n",
              "      <td>-2.945017e-02</td>\n",
              "      <td>6.781943e-03</td>\n",
              "      <td>-1.119293e-02</td>\n",
              "      <td>4.097606e-02</td>\n",
              "      <td>1.659350e-02</td>\n",
              "      <td>-5.213911e-02</td>\n",
              "      <td>1.342146e-03</td>\n",
              "      <td>1.124383e-02</td>\n",
              "      <td>22.000000</td>\n",
              "      <td>0.000000</td>\n",
              "    </tr>\n",
              "    <tr>\n",
              "      <th>75%</th>\n",
              "      <td>139320.500000</td>\n",
              "      <td>1.315642e+00</td>\n",
              "      <td>8.037239e-01</td>\n",
              "      <td>1.027196e+00</td>\n",
              "      <td>7.433413e-01</td>\n",
              "      <td>6.119264e-01</td>\n",
              "      <td>3.985649e-01</td>\n",
              "      <td>5.704361e-01</td>\n",
              "      <td>3.273459e-01</td>\n",
              "      <td>5.971390e-01</td>\n",
              "      <td>...</td>\n",
              "      <td>1.863772e-01</td>\n",
              "      <td>5.285536e-01</td>\n",
              "      <td>1.476421e-01</td>\n",
              "      <td>4.395266e-01</td>\n",
              "      <td>3.507156e-01</td>\n",
              "      <td>2.409522e-01</td>\n",
              "      <td>9.104512e-02</td>\n",
              "      <td>7.827995e-02</td>\n",
              "      <td>77.165000</td>\n",
              "      <td>0.000000</td>\n",
              "    </tr>\n",
              "    <tr>\n",
              "      <th>max</th>\n",
              "      <td>172792.000000</td>\n",
              "      <td>2.454930e+00</td>\n",
              "      <td>2.205773e+01</td>\n",
              "      <td>9.382558e+00</td>\n",
              "      <td>1.687534e+01</td>\n",
              "      <td>3.480167e+01</td>\n",
              "      <td>7.330163e+01</td>\n",
              "      <td>1.205895e+02</td>\n",
              "      <td>2.000721e+01</td>\n",
              "      <td>1.559499e+01</td>\n",
              "      <td>...</td>\n",
              "      <td>2.720284e+01</td>\n",
              "      <td>1.050309e+01</td>\n",
              "      <td>2.252841e+01</td>\n",
              "      <td>4.584549e+00</td>\n",
              "      <td>7.519589e+00</td>\n",
              "      <td>3.517346e+00</td>\n",
              "      <td>3.161220e+01</td>\n",
              "      <td>3.384781e+01</td>\n",
              "      <td>25691.160000</td>\n",
              "      <td>1.000000</td>\n",
              "    </tr>\n",
              "  </tbody>\n",
              "</table>\n",
              "<p>8 rows × 31 columns</p>\n",
              "</div>"
            ],
            "text/plain": [
              "                Time            V1            V2            V3            V4  \\\n",
              "count  284807.000000  2.848070e+05  2.848070e+05  2.848070e+05  2.848070e+05   \n",
              "mean    94813.859575  3.918649e-15  5.682686e-16 -8.761736e-15  2.811118e-15   \n",
              "std     47488.145955  1.958696e+00  1.651309e+00  1.516255e+00  1.415869e+00   \n",
              "min         0.000000 -5.640751e+01 -7.271573e+01 -4.832559e+01 -5.683171e+00   \n",
              "25%     54201.500000 -9.203734e-01 -5.985499e-01 -8.903648e-01 -8.486401e-01   \n",
              "50%     84692.000000  1.810880e-02  6.548556e-02  1.798463e-01 -1.984653e-02   \n",
              "75%    139320.500000  1.315642e+00  8.037239e-01  1.027196e+00  7.433413e-01   \n",
              "max    172792.000000  2.454930e+00  2.205773e+01  9.382558e+00  1.687534e+01   \n",
              "\n",
              "                 V5            V6            V7            V8            V9  \\\n",
              "count  2.848070e+05  2.848070e+05  2.848070e+05  2.848070e+05  2.848070e+05   \n",
              "mean  -1.552103e-15  2.040130e-15 -1.698953e-15 -1.893285e-16 -3.147640e-15   \n",
              "std    1.380247e+00  1.332271e+00  1.237094e+00  1.194353e+00  1.098632e+00   \n",
              "min   -1.137433e+02 -2.616051e+01 -4.355724e+01 -7.321672e+01 -1.343407e+01   \n",
              "25%   -6.915971e-01 -7.682956e-01 -5.540759e-01 -2.086297e-01 -6.430976e-01   \n",
              "50%   -5.433583e-02 -2.741871e-01  4.010308e-02  2.235804e-02 -5.142873e-02   \n",
              "75%    6.119264e-01  3.985649e-01  5.704361e-01  3.273459e-01  5.971390e-01   \n",
              "max    3.480167e+01  7.330163e+01  1.205895e+02  2.000721e+01  1.559499e+01   \n",
              "\n",
              "       ...           V21           V22           V23           V24  \\\n",
              "count  ...  2.848070e+05  2.848070e+05  2.848070e+05  2.848070e+05   \n",
              "mean   ...  1.473120e-16  8.042109e-16  5.282512e-16  4.456271e-15   \n",
              "std    ...  7.345240e-01  7.257016e-01  6.244603e-01  6.056471e-01   \n",
              "min    ... -3.483038e+01 -1.093314e+01 -4.480774e+01 -2.836627e+00   \n",
              "25%    ... -2.283949e-01 -5.423504e-01 -1.618463e-01 -3.545861e-01   \n",
              "50%    ... -2.945017e-02  6.781943e-03 -1.119293e-02  4.097606e-02   \n",
              "75%    ...  1.863772e-01  5.285536e-01  1.476421e-01  4.395266e-01   \n",
              "max    ...  2.720284e+01  1.050309e+01  2.252841e+01  4.584549e+00   \n",
              "\n",
              "                V25           V26           V27           V28         Amount  \\\n",
              "count  2.848070e+05  2.848070e+05  2.848070e+05  2.848070e+05  284807.000000   \n",
              "mean   1.426896e-15  1.701640e-15 -3.662252e-16 -1.217809e-16      88.349619   \n",
              "std    5.212781e-01  4.822270e-01  4.036325e-01  3.300833e-01     250.120109   \n",
              "min   -1.029540e+01 -2.604551e+00 -2.256568e+01 -1.543008e+01       0.000000   \n",
              "25%   -3.171451e-01 -3.269839e-01 -7.083953e-02 -5.295979e-02       5.600000   \n",
              "50%    1.659350e-02 -5.213911e-02  1.342146e-03  1.124383e-02      22.000000   \n",
              "75%    3.507156e-01  2.409522e-01  9.104512e-02  7.827995e-02      77.165000   \n",
              "max    7.519589e+00  3.517346e+00  3.161220e+01  3.384781e+01   25691.160000   \n",
              "\n",
              "               Class  \n",
              "count  284807.000000  \n",
              "mean        0.001727  \n",
              "std         0.041527  \n",
              "min         0.000000  \n",
              "25%         0.000000  \n",
              "50%         0.000000  \n",
              "75%         0.000000  \n",
              "max         1.000000  \n",
              "\n",
              "[8 rows x 31 columns]"
            ]
          },
          "execution_count": 8,
          "metadata": {},
          "output_type": "execute_result"
        }
      ],
      "source": [
        "df.describe()\n",
        "# check out each column's summary statistics\n",
        "# Note that only the numerical columns will be described\n",
        "# Also you will want to exclude the discrete columns whose summary stats will give non-sensical values like 'customer_id'"
      ]
    },
    {
      "cell_type": "markdown",
      "metadata": {
        "id": "I6RvLWgXyDim"
      },
      "source": [
        "### <a id='43'>Unique Value Checking</a>"
      ]
    },
    {
      "cell_type": "code",
      "execution_count": null,
      "metadata": {
        "scrolled": true,
        "id": "mqiAuT6MyDin",
        "outputId": "d8106653-c101-4094-e3d4-04e9e4b78249"
      },
      "outputs": [
        {
          "name": "stdout",
          "output_type": "stream",
          "text": [
            "Time 124592\n",
            "V1 275663\n",
            "V2 275663\n",
            "V3 275663\n",
            "V4 275663\n",
            "V5 275663\n",
            "V6 275663\n",
            "V7 275663\n",
            "V8 275663\n",
            "V9 275663\n",
            "V10 275663\n",
            "V11 275663\n",
            "V12 275663\n",
            "V13 275663\n",
            "V14 275663\n",
            "V15 275663\n",
            "V16 275663\n",
            "V17 275663\n",
            "V18 275663\n",
            "V19 275663\n",
            "V20 275663\n",
            "V21 275663\n",
            "V22 275663\n",
            "V23 275663\n",
            "V24 275663\n",
            "V25 275663\n",
            "V26 275663\n",
            "V27 275663\n",
            "V28 275663\n",
            "Amount 32767\n",
            "Class 2\n"
          ]
        }
      ],
      "source": [
        "for column in df.columns:\n",
        "    print(column, len(df[column].unique()))"
      ]
    },
    {
      "cell_type": "markdown",
      "metadata": {
        "id": "QPWE5QeyyDin"
      },
      "source": [
        "### <a id='44'>Identifying Bad Columns</a>"
      ]
    },
    {
      "cell_type": "code",
      "execution_count": null,
      "metadata": {
        "id": "q8TR5CcqyDin"
      },
      "outputs": [],
      "source": [
        "def find_bad_columns_function(dataframe):\n",
        "    '''\n",
        "    Args: dataframe for which there maybe columns of concern that need to be fixed or deleted\n",
        "\n",
        "    Logic: Find the columns that have\n",
        "    Null values\n",
        "    blanks in the strings\n",
        "    quasi constant/constant values defined by less than 1% variance\n",
        "\n",
        "    Returns: 4 lists containing those features that have nulls, blanks, constant values throughout for numerical and categorical\n",
        "\n",
        "    '''\n",
        "\n",
        "    ###### Finding Null Values\n",
        "    null_col_list = dataframe.columns[dataframe.isna().any()].tolist()\n",
        "\n",
        "    print('Identified {} features with atleast one null'.format(\n",
        "        len(null_col_list)))\n",
        "\n",
        "    ###### Finding Blank Spaces in the object column\n",
        "    # Non-obvious nulls such as blanks: The line items where there are spaces\n",
        "    blank_space_col_list = []\n",
        "    object_columns = dataframe.select_dtypes(include=['object']).columns\n",
        "\n",
        "    for col in object_columns:\n",
        "        if sum(dataframe[col]==' '):\n",
        "            blank_space_col_list.append(col)\n",
        "\n",
        "    print('Identified {} features with atleast one blank space'.format(\n",
        "        len(blank_space_col_list)))\n",
        "\n",
        "    ####### Finding Quasi Constant/Constant Value in numerical columns\n",
        "    # Lets remove the variables that have more than 99% of their values as the same\n",
        "    # ie their standard deviation is less than 1 %\n",
        "\n",
        "    numeric_df = dataframe._get_numeric_data()\n",
        "    constant_numeric_col_list = [col for col in numeric_df.columns if numeric_df[col].std()<0.01]\n",
        "\n",
        "    print('Identified {} numeric features that have quasi-constant values'.format(\n",
        "        len(constant_numeric_col_list)))\n",
        "\n",
        "    # We use a separate logic for the non-numerical variables because if you have closely varying float values\n",
        "    # then the below code snippet wont pick it up\n",
        "\n",
        "    ###### Finding Quasi Constant/Constant non_numeric value\n",
        "    constant_non_numeric_col_list = []\n",
        "\n",
        "    # Find the columns that are not in numeric_df\n",
        "    non_numeric_col_set = set(dataframe.columns) - set(numeric_df.columns)\n",
        "\n",
        "    for col in non_numeric_col_set:\n",
        "        categorical_mode_value = (dataframe[col].mode().values)[0]\n",
        "        fractional_presence = sum(dataframe[col]==categorical_mode_value)/len(dataframe)\n",
        "\n",
        "        if fractional_presence > 0.99:\n",
        "            constant_non_numeric_col_list.append(col)\n",
        "\n",
        "    print('Identified {} non-numeric features that have quasi-constant values'.format(\n",
        "        len(constant_non_numeric_col_list)))\n",
        "\n",
        "    return null_col_list, blank_space_col_list, constant_numeric_col_list, constant_non_numeric_col_list"
      ]
    },
    {
      "cell_type": "code",
      "execution_count": null,
      "metadata": {
        "id": "MrCBRTnvyDin",
        "outputId": "40749946-0b22-4c72-ef63-b170844ea7cb"
      },
      "outputs": [
        {
          "name": "stdout",
          "output_type": "stream",
          "text": [
            "Identified 0 features with atleast one null\n",
            "Identified 0 features with atleast one blank space\n",
            "Identified 0 numeric features that have quasi-constant values\n",
            "Identified 0 non-numeric features that have quasi-constant values\n"
          ]
        }
      ],
      "source": [
        "# use the above custom function to figure out the if there are any columns we need to be concerned about\n",
        "null_col_list, blank_space_col_list, constant_numeric_col_list, \\\n",
        "constant_non_numeric_col_list = find_bad_columns_function(df)"
      ]
    },
    {
      "cell_type": "markdown",
      "metadata": {
        "id": "DqY6LscCyDin"
      },
      "source": [
        "There doesn't seem to be any obvious columns that need attention"
      ]
    },
    {
      "cell_type": "markdown",
      "metadata": {
        "id": "A8dHZGyYyDin"
      },
      "source": [
        "## <a id='5'>Data Cleansing</a>"
      ]
    },
    {
      "cell_type": "markdown",
      "metadata": {
        "id": "AieGU7YHyDio"
      },
      "source": [
        "### <a id='51'>Data Reduction</a>"
      ]
    },
    {
      "cell_type": "markdown",
      "metadata": {
        "id": "YDC_62WMyDio"
      },
      "source": [
        "#### <a id='511'>Dropping Bad Columns</a>"
      ]
    },
    {
      "cell_type": "code",
      "execution_count": null,
      "metadata": {
        "id": "smZ8A4MKyDio",
        "outputId": "7231c034-831e-441b-b7d5-a461447ca189"
      },
      "outputs": [
        {
          "name": "stdout",
          "output_type": "stream",
          "text": [
            "Before dropping irrelevant features and duplicated columns,\n",
            "31 number of columns were present\n",
            "After dropping the above, \n",
            "31 number of columns are present\n"
          ]
        }
      ],
      "source": [
        "# In this dataset, we dont have anything of concern that need deletion but\n",
        "# But if they do show up, you should go ahead and delete them to reduce overfitting\n",
        "\n",
        "print('Before dropping irrelevant features and duplicated columns,')\n",
        "print('{} number of columns were present'.format(len(df.columns)))\n",
        "\n",
        "for drop_column_list in [constant_numeric_col_list, constant_non_numeric_col_list]:\n",
        "    df.drop(drop_column_list, axis=1, inplace=True)\n",
        "\n",
        "print('After dropping the above, ')\n",
        "print('{} number of columns are present'.format(len(df.columns)))\n"
      ]
    },
    {
      "cell_type": "markdown",
      "metadata": {
        "id": "_BT6McqyyDio"
      },
      "source": [
        "#### <a id='512'>Null Value Removal</a>"
      ]
    },
    {
      "cell_type": "code",
      "execution_count": null,
      "metadata": {
        "id": "CEib1H7kyDio",
        "outputId": "63b16a9b-3f98-4ebc-da3b-98fc2d8c7f5c"
      },
      "outputs": [
        {
          "data": {
            "text/plain": [
              "284807"
            ]
          },
          "execution_count": 13,
          "metadata": {},
          "output_type": "execute_result"
        }
      ],
      "source": [
        "df.dropna(axis=0, inplace=True)\n",
        "len(df)"
      ]
    },
    {
      "cell_type": "markdown",
      "metadata": {
        "id": "iPtecAbhyDio"
      },
      "source": [
        "## <a id = 6 > Modelling Workflow"
      ]
    },
    {
      "cell_type": "markdown",
      "metadata": {
        "id": "IBoyRtgQyDio"
      },
      "source": [
        "### <a id = 61 > Data Prep"
      ]
    },
    {
      "cell_type": "markdown",
      "metadata": {
        "id": "pIfP1qPHyDio"
      },
      "source": [
        "#### <a id='611'>Feature - Target Split</a>"
      ]
    },
    {
      "cell_type": "code",
      "execution_count": null,
      "metadata": {
        "id": "i2GXBXSXyDio"
      },
      "outputs": [],
      "source": [
        "X = df.drop(target_class_name, axis=1)\n",
        "y = df[target_class_name]"
      ]
    },
    {
      "cell_type": "markdown",
      "metadata": {
        "id": "7m9zLgOVyDix"
      },
      "source": [
        "#### <a id='612'>Train Test Split</a>"
      ]
    },
    {
      "cell_type": "code",
      "execution_count": null,
      "metadata": {
        "id": "DLd3vZUAyDiy"
      },
      "outputs": [],
      "source": [
        "# split into train and test set\n",
        "from sklearn.model_selection import train_test_split\n",
        "X_train, X_test, y_train, y_test = train_test_split(X, y, test_size=0.2, random_state=42, stratify=y)\n",
        "\n",
        "# Note optionally convert the pandas dataframe into a numpy array using to_numpy if you have a big data\n",
        "# and want to model faster. Otherwise it doesnt matter which data structure you use"
      ]
    },
    {
      "cell_type": "markdown",
      "metadata": {
        "id": "qTATN9NlyDiy"
      },
      "source": [
        "#### <a id = 612 > Normalizing numerical variables"
      ]
    },
    {
      "cell_type": "markdown",
      "metadata": {
        "id": "EGpxmlaxyDiy"
      },
      "source": [
        "Now that we have numerical features, can we feed it directly into our models like Random Forest? Yes even without scaling or normalizing. Scaling has the effect of squeezing all data range into a tight range but is not required for non-distance based models\n",
        "\n",
        "https://stats.stackexchange.com/questions/244507/what-algorithms-need-feature-scaling-beside-from-svm"
      ]
    },
    {
      "cell_type": "markdown",
      "metadata": {
        "id": "FFaD3sCWyDiy"
      },
      "source": [
        "### <a id='62'>Estimate of baseline accuracy - Class Distributions </a>"
      ]
    },
    {
      "cell_type": "code",
      "execution_count": null,
      "metadata": {
        "id": "j9wYWE7ByDiy",
        "outputId": "6957a13c-ad21-4ae3-dfc0-992d338b61b6"
      },
      "outputs": [
        {
          "name": "stdout",
          "output_type": "stream",
          "text": [
            "Percentage of Negative class is 99.827 %\n",
            "Percentage of Positive class is 0.173 %\n"
          ]
        }
      ],
      "source": [
        "# Figure out the class distribution percentage and round it to 3 decimal places\n",
        "\n",
        "print('Percentage of Negative class is {} %'.format(\n",
        "    round(df[target_class_name].value_counts()[0]/len(df) * 100,3)))\n",
        "\n",
        "print('Percentage of Positive class is {} %'.format(\n",
        "    round(df[target_class_name].value_counts()[1]/len(df) * 100,3)))\n",
        "\n",
        "# A dumb model that predicts everything as being 0, will generate a baseline accuracy of 99.8%"
      ]
    },
    {
      "cell_type": "code",
      "execution_count": null,
      "metadata": {
        "id": "2beNtSzayDiy",
        "outputId": "b679df78-c9f5-48b8-e432-2f77ae86d8d0"
      },
      "outputs": [
        {
          "data": {
            "text/plain": [
              "0    284315\n",
              "1       492\n",
              "Name: Class, dtype: int64"
            ]
          },
          "execution_count": 17,
          "metadata": {},
          "output_type": "execute_result"
        },
        {
          "data": {
            "image/png": "[encoded data removed]",
            "text/plain": [
              "<Figure size 432x288 with 1 Axes>"
            ]
          },
          "metadata": {
            "needs_background": "light"
          },
          "output_type": "display_data"
        }
      ],
      "source": [
        "plt.figure(figsize=(6,4))\n",
        "pd.value_counts(df[target_class_name]).plot.bar()\n",
        "plt.title('Histogram of class distributions')\n",
        "plt.xlabel(labels[1])\n",
        "plt.xticks(rotation=0)\n",
        "plt.ylabel('Frequency')\n",
        "df[target_class_name].value_counts()"
      ]
    },
    {
      "cell_type": "markdown",
      "metadata": {
        "id": "7iMVFa1_yDiy"
      },
      "source": [
        "The baseline accuracy to beat is 99.8%\n",
        "\n",
        "What about the other metrics like Precision, Recall and F1 score? They would all be 0% for the positive class for a non-predictive 'classifier' that predicts every  "
      ]
    },
    {
      "cell_type": "markdown",
      "metadata": {
        "id": "WRQuSJOuyDiy"
      },
      "source": [
        "### <a id='63'>Predictive Modelling</a>"
      ]
    },
    {
      "cell_type": "markdown",
      "metadata": {
        "id": "CY8HMbDPyDiz"
      },
      "source": [
        "#### <a id='631'>Modelling with Random Forest</a>"
      ]
    },
    {
      "cell_type": "code",
      "execution_count": null,
      "metadata": {
        "id": "5QchM0cPyDiz"
      },
      "outputs": [],
      "source": [
        "from sklearn.metrics import accuracy_score, classification_report, roc_curve, roc_auc_score\n",
        "from sklearn.metrics import confusion_matrix, f1_score, precision_score, recall_score, average_precision_score\n",
        "from collections import Counter"
      ]
    },
    {
      "cell_type": "code",
      "execution_count": null,
      "metadata": {
        "id": "bt8b_myeyDiz"
      },
      "outputs": [],
      "source": [
        "# Reuse the same function from the starter template\n",
        "def custom_classification_metrics_function(X_test, y_test, labels, classifier):\n",
        "    '''\n",
        "    Args: The features and the target column; the labels are the categories, sklearn classifier object\n",
        "    Calculates Classification metrics of interest\n",
        "    Returns: A dictionary containing the classification metrics\n",
        "    '''\n",
        "\n",
        "    # Generate the predictions on the test data which forms the basis of the evaluation metrics\n",
        "    test_pred = classifier.predict(X_test)\n",
        "\n",
        "    ### Classification report\n",
        "    print(classification_report(y_test, test_pred, target_names=labels))\n",
        "\n",
        "    # Only store the 2nd column which corresponds to the probability for the positive class\n",
        "    y_scores = classifier.predict_proba(X_test)[:, 1]\n",
        "\n",
        "    ### Confusion Matrix\n",
        "    confusion_matrix_test_object = confusion_matrix(y_test, test_pred)\n",
        "\n",
        "    # Initialize a dictionary to store the metrics we are interested in\n",
        "    metrics_dict = Counter()\n",
        "\n",
        "    # These are all the basic threshold-dependent metrics\n",
        "    metrics_dict['Accuracy']  = float(\"{0:.4f}\".format(accuracy_score(y_test, test_pred)))\n",
        "\n",
        "    # The following are more useful than the accuracy\n",
        "    metrics_dict['Precision'] = float(\"{0:.4f}\".format(precision_score(y_test, test_pred, average='macro')))\n",
        "    metrics_dict['Recall'] = float(\"{0:.4f}\".format(recall_score(y_test, test_pred, average='macro')))\n",
        "    metrics_dict['F1'] = float(\"{0:.4f}\".format(f1_score(y_test, test_pred, average='macro')))\n",
        "\n",
        "    metrics_dict['TN'] = confusion_matrix_test_object[0][0]\n",
        "    metrics_dict['TP'] = confusion_matrix_test_object[1][1]\n",
        "    metrics_dict['FN'] = confusion_matrix_test_object[1][0]\n",
        "    metrics_dict['FP'] = confusion_matrix_test_object[0][1]\n",
        "\n",
        "    # These two are threshold-invariant metrics\n",
        "    metrics_dict['ROC AUC'] = float(\"{0:.4f}\".format(roc_auc_score(y_test, y_scores)))\n",
        "    metrics_dict['Average_Precision'] = float(\"{0:.4f}\".format(\n",
        "                                        average_precision_score(y_test, y_scores, average='macro', sample_weight=None)))\n",
        "\n",
        "    return metrics_dict"
      ]
    },
    {
      "cell_type": "code",
      "execution_count": null,
      "metadata": {
        "id": "iz3zyz6kyDiz",
        "outputId": "36f38677-aa2e-48d7-8a2e-152baa40cd8f"
      },
      "outputs": [
        {
          "name": "stdout",
          "output_type": "stream",
          "text": [
            "              precision    recall  f1-score   support\n",
            "\n",
            "   Not Fraud       1.00      1.00      1.00     56864\n",
            "       Fraud       0.94      0.82      0.87        98\n",
            "\n",
            "    accuracy                           1.00     56962\n",
            "   macro avg       0.97      0.91      0.94     56962\n",
            "weighted avg       1.00      1.00      1.00     56962\n",
            "\n"
          ]
        },
        {
          "data": {
            "text/plain": [
              "Counter({'Accuracy': 0.9996,\n",
              "         'Precision': 0.9704,\n",
              "         'Recall': 0.9081,\n",
              "         'F1': 0.9371,\n",
              "         'TN': 56859,\n",
              "         'TP': 80,\n",
              "         'FN': 18,\n",
              "         'FP': 5,\n",
              "         'ROC AUC': 0.963,\n",
              "         'Average_Precision': 0.8734})"
            ]
          },
          "execution_count": 22,
          "metadata": {},
          "output_type": "execute_result"
        }
      ],
      "source": [
        "from sklearn.ensemble import RandomForestClassifier\n",
        "\n",
        "# Initialize a classifier object with default params\n",
        "classifier = RandomForestClassifier(random_state=42)\n",
        "classifier.fit(X_train, y_train)\n",
        "\n",
        "custom_classification_metrics_function(X_test, y_test, labels, classifier)"
      ]
    },
    {
      "cell_type": "markdown",
      "metadata": {
        "id": "r-BqFnMPyDiz"
      },
      "source": [
        "So which metric would you use to compare? Depends on the business problem. If detecting the minority class is needed, ROC AUC and F1 score may not be the right metrics for imbalanced datasets\n",
        "https://towardsdatascience.com/selecting-the-right-metric-for-skewed-classification-problems-6e0a4a6167a7\n",
        "\n",
        "The F1 score is sensitive to imbalance but its unable to differentiate between a good recall or a good precision\n",
        "due to the symmetrical nature of the formula\n",
        "F1 = 2*(Precision * Recall)/(Precision + Recall)\n",
        "\n",
        "A robust metric that is invariant of the threshold chosen is the Average Precision which accounts for all the different thresholds\n",
        "https://scikit-learn.org/stable/modules/generated/sklearn.metrics.average_precision_score.html"
      ]
    },
    {
      "cell_type": "markdown",
      "metadata": {
        "id": "Lo1pnlQ5yDiz"
      },
      "source": [
        "#### <a id='632'>Model Comparison </a>"
      ]
    },
    {
      "cell_type": "code",
      "execution_count": null,
      "metadata": {
        "id": "kMp5DYDfyDiz",
        "outputId": "a259c604-1abf-4bde-9f33-71b83dac5eff"
      },
      "outputs": [
        {
          "data": {
            "text/html": [
              "<div>\n",
              "<style scoped>\n",
              "    .dataframe tbody tr th:only-of-type {\n",
              "        vertical-align: middle;\n",
              "    }\n",
              "\n",
              "    .dataframe tbody tr th {\n",
              "        vertical-align: top;\n",
              "    }\n",
              "\n",
              "    .dataframe thead th {\n",
              "        text-align: right;\n",
              "    }\n",
              "</style>\n",
              "<table border=\"1\" class=\"dataframe\">\n",
              "  <thead>\n",
              "    <tr style=\"text-align: right;\">\n",
              "      <th></th>\n",
              "      <th>Accuracy</th>\n",
              "      <th>Precision</th>\n",
              "      <th>Recall</th>\n",
              "      <th>F1</th>\n",
              "      <th>ROC AUC</th>\n",
              "      <th>FN</th>\n",
              "      <th>TP</th>\n",
              "      <th>FP</th>\n",
              "      <th>TN</th>\n",
              "      <th>Average_Precision</th>\n",
              "    </tr>\n",
              "  </thead>\n",
              "  <tbody>\n",
              "    <tr>\n",
              "      <th>logreg</th>\n",
              "      <td>NaN</td>\n",
              "      <td>NaN</td>\n",
              "      <td>NaN</td>\n",
              "      <td>NaN</td>\n",
              "      <td>NaN</td>\n",
              "      <td>NaN</td>\n",
              "      <td>NaN</td>\n",
              "      <td>NaN</td>\n",
              "      <td>NaN</td>\n",
              "      <td>NaN</td>\n",
              "    </tr>\n",
              "    <tr>\n",
              "      <th>random_forest</th>\n",
              "      <td>NaN</td>\n",
              "      <td>NaN</td>\n",
              "      <td>NaN</td>\n",
              "      <td>NaN</td>\n",
              "      <td>NaN</td>\n",
              "      <td>NaN</td>\n",
              "      <td>NaN</td>\n",
              "      <td>NaN</td>\n",
              "      <td>NaN</td>\n",
              "      <td>NaN</td>\n",
              "    </tr>\n",
              "    <tr>\n",
              "      <th>naive_bayes</th>\n",
              "      <td>NaN</td>\n",
              "      <td>NaN</td>\n",
              "      <td>NaN</td>\n",
              "      <td>NaN</td>\n",
              "      <td>NaN</td>\n",
              "      <td>NaN</td>\n",
              "      <td>NaN</td>\n",
              "      <td>NaN</td>\n",
              "      <td>NaN</td>\n",
              "      <td>NaN</td>\n",
              "    </tr>\n",
              "  </tbody>\n",
              "</table>\n",
              "</div>"
            ],
            "text/plain": [
              "              Accuracy Precision Recall   F1 ROC AUC   FN   TP   FP   TN  \\\n",
              "logreg             NaN       NaN    NaN  NaN     NaN  NaN  NaN  NaN  NaN   \n",
              "random_forest      NaN       NaN    NaN  NaN     NaN  NaN  NaN  NaN  NaN   \n",
              "naive_bayes        NaN       NaN    NaN  NaN     NaN  NaN  NaN  NaN  NaN   \n",
              "\n",
              "              Average_Precision  \n",
              "logreg                      NaN  \n",
              "random_forest               NaN  \n",
              "naive_bayes                 NaN  "
            ]
          },
          "execution_count": 23,
          "metadata": {},
          "output_type": "execute_result"
        }
      ],
      "source": [
        "# Lets repeat the same for 2 other classifiers, the logistic_regression and the naive bayes\n",
        "\n",
        "from sklearn.linear_model import LogisticRegression\n",
        "from sklearn.naive_bayes import GaussianNB\n",
        "\n",
        "# Initialize a classifier to initialize the classifier object\n",
        "classifier_dict = {'logreg':LogisticRegression(random_state=42),\n",
        "                   'random_forest':RandomForestClassifier(random_state=42),\n",
        "                   'naive_bayes':GaussianNB()}\n",
        "\n",
        "# Initialize a dataframe with the columns that we want to store being the various metrics of interest\n",
        "metrics_df = pd.DataFrame(\n",
        "columns = ['Accuracy','Precision','Recall','F1',\n",
        "           'ROC AUC','FN','TP','FP','TN','Average_Precision'],\n",
        "index = [classifier_name for classifier_name in classifier_dict.keys()])\n",
        "\n",
        "metrics_df\n",
        "# As seen below, the rows are the names of the classifiers and the columns are the metrics of interest\n",
        "# These NaNs will be replaced with the values of the metrics when you train the model and predict on the test data next"
      ]
    },
    {
      "cell_type": "code",
      "execution_count": null,
      "metadata": {
        "id": "MZCJuoG5yDiz",
        "outputId": "8fd61d82-c689-4dec-fa51-86fc13d84b54"
      },
      "outputs": [
        {
          "name": "stdout",
          "output_type": "stream",
          "text": [
            "***********\n",
            "logreg\n",
            "              precision    recall  f1-score   support\n",
            "\n",
            "   Not Fraud       1.00      1.00      1.00     56864\n",
            "       Fraud       0.72      0.72      0.72        98\n",
            "\n",
            "    accuracy                           1.00     56962\n",
            "   macro avg       0.86      0.86      0.86     56962\n",
            "weighted avg       1.00      1.00      1.00     56962\n",
            "\n",
            "Counter({'TN': 56836, 'TP': 71, 'FP': 28, 'FN': 27, 'Accuracy': 0.999, 'ROC AUC': 0.9464, 'Recall': 0.862, 'F1': 0.8602, 'Precision': 0.8583, 'Average_Precision': 0.6357})\n",
            "***********\n",
            "random_forest\n",
            "              precision    recall  f1-score   support\n",
            "\n",
            "   Not Fraud       1.00      1.00      1.00     56864\n",
            "       Fraud       0.94      0.82      0.87        98\n",
            "\n",
            "    accuracy                           1.00     56962\n",
            "   macro avg       0.97      0.91      0.94     56962\n",
            "weighted avg       1.00      1.00      1.00     56962\n",
            "\n",
            "Counter({'TN': 56859, 'TP': 80, 'FN': 18, 'FP': 5, 'Accuracy': 0.9996, 'Precision': 0.9704, 'ROC AUC': 0.963, 'F1': 0.9371, 'Recall': 0.9081, 'Average_Precision': 0.8734})\n",
            "***********\n",
            "naive_bayes\n",
            "              precision    recall  f1-score   support\n",
            "\n",
            "   Not Fraud       1.00      0.99      1.00     56864\n",
            "       Fraud       0.14      0.66      0.23        98\n",
            "\n",
            "    accuracy                           0.99     56962\n",
            "   macro avg       0.57      0.83      0.61     56962\n",
            "weighted avg       1.00      0.99      0.99     56962\n",
            "\n",
            "Counter({'TN': 56457, 'FP': 407, 'TP': 65, 'FN': 33, 'Accuracy': 0.9923, 'ROC AUC': 0.9677, 'Recall': 0.8281, 'F1': 0.6121, 'Precision': 0.5686, 'Average_Precision': 0.1824})\n"
          ]
        }
      ],
      "source": [
        "for classifier_name, classifier in classifier_dict.items():\n",
        "    classifier.fit(X_train, y_train)\n",
        "    print('***********')\n",
        "    print(classifier_name)\n",
        "    metrics_dict = custom_classification_metrics_function(X_test, y_test, labels, classifier)\n",
        "    print(metrics_dict)\n",
        "\n",
        "    # store the metrics as a single row in the dataframe against each classifier name\n",
        "    metrics_df.loc[classifier_name] = metrics_dict"
      ]
    },
    {
      "cell_type": "code",
      "execution_count": null,
      "metadata": {
        "id": "m44DZWrtyDi0",
        "outputId": "93790aac-c987-4d4f-96b3-e89a18fd0440"
      },
      "outputs": [
        {
          "data": {
            "text/html": [
              "<div>\n",
              "<style scoped>\n",
              "    .dataframe tbody tr th:only-of-type {\n",
              "        vertical-align: middle;\n",
              "    }\n",
              "\n",
              "    .dataframe tbody tr th {\n",
              "        vertical-align: top;\n",
              "    }\n",
              "\n",
              "    .dataframe thead th {\n",
              "        text-align: right;\n",
              "    }\n",
              "</style>\n",
              "<table border=\"1\" class=\"dataframe\">\n",
              "  <thead>\n",
              "    <tr style=\"text-align: right;\">\n",
              "      <th></th>\n",
              "      <th>Accuracy</th>\n",
              "      <th>Precision</th>\n",
              "      <th>Recall</th>\n",
              "      <th>F1</th>\n",
              "      <th>ROC AUC</th>\n",
              "      <th>FN</th>\n",
              "      <th>TP</th>\n",
              "      <th>FP</th>\n",
              "      <th>TN</th>\n",
              "      <th>Average_Precision</th>\n",
              "    </tr>\n",
              "  </thead>\n",
              "  <tbody>\n",
              "    <tr>\n",
              "      <th>logreg</th>\n",
              "      <td>0.999</td>\n",
              "      <td>0.8583</td>\n",
              "      <td>0.862</td>\n",
              "      <td>0.8602</td>\n",
              "      <td>0.9464</td>\n",
              "      <td>27.0</td>\n",
              "      <td>71.0</td>\n",
              "      <td>28.0</td>\n",
              "      <td>56836.0</td>\n",
              "      <td>0.6357</td>\n",
              "    </tr>\n",
              "    <tr>\n",
              "      <th>random_forest</th>\n",
              "      <td>0.9996</td>\n",
              "      <td>0.9704</td>\n",
              "      <td>0.9081</td>\n",
              "      <td>0.9371</td>\n",
              "      <td>0.963</td>\n",
              "      <td>18.0</td>\n",
              "      <td>80.0</td>\n",
              "      <td>5.0</td>\n",
              "      <td>56859.0</td>\n",
              "      <td>0.8734</td>\n",
              "    </tr>\n",
              "    <tr>\n",
              "      <th>naive_bayes</th>\n",
              "      <td>0.9923</td>\n",
              "      <td>0.5686</td>\n",
              "      <td>0.8281</td>\n",
              "      <td>0.6121</td>\n",
              "      <td>0.9677</td>\n",
              "      <td>33.0</td>\n",
              "      <td>65.0</td>\n",
              "      <td>407.0</td>\n",
              "      <td>56457.0</td>\n",
              "      <td>0.1824</td>\n",
              "    </tr>\n",
              "  </tbody>\n",
              "</table>\n",
              "</div>"
            ],
            "text/plain": [
              "              Accuracy Precision  Recall      F1 ROC AUC    FN    TP     FP  \\\n",
              "logreg           0.999    0.8583   0.862  0.8602  0.9464  27.0  71.0   28.0   \n",
              "random_forest   0.9996    0.9704  0.9081  0.9371   0.963  18.0  80.0    5.0   \n",
              "naive_bayes     0.9923    0.5686  0.8281  0.6121  0.9677  33.0  65.0  407.0   \n",
              "\n",
              "                    TN Average_Precision  \n",
              "logreg         56836.0            0.6357  \n",
              "random_forest  56859.0            0.8734  \n",
              "naive_bayes    56457.0            0.1824  "
            ]
          },
          "execution_count": 25,
          "metadata": {},
          "output_type": "execute_result"
        }
      ],
      "source": [
        "metrics_df"
      ]
    },
    {
      "cell_type": "code",
      "execution_count": null,
      "metadata": {
        "id": "unwlfqdgyDi0"
      },
      "outputs": [],
      "source": [
        "# As seen the NB solution is by far the worst performer amongst the algorithms"
      ]
    },
    {
      "cell_type": "code",
      "execution_count": null,
      "metadata": {
        "id": "o-fpwV3NyDi0"
      },
      "outputs": [],
      "source": [
        "# Over the course of the LiveProject, you will be repeatedly using the custom_classification_metrics_function to determine the accuracy metrics (with slight modifications when using the PyOD API)"
      ]
    },
    {
      "cell_type": "code",
      "execution_count": null,
      "metadata": {
        "id": "-LRG0c2syDi0"
      },
      "outputs": [],
      "source": []
    }
  ],
  "metadata": {
    "kernelspec": {
      "display_name": "Python 3",
      "language": "python",
      "name": "python3"
    },
    "language_info": {
      "codemirror_mode": {
        "name": "ipython",
        "version": 3
      },
      "file_extension": ".py",
      "mimetype": "text/x-python",
      "name": "python",
      "nbconvert_exporter": "python",
      "pygments_lexer": "ipython3",
      "version": "3.8.8"
    },
    "colab": {
      "provenance": []
    }
  },
  "nbformat": 4,
  "nbformat_minor": 0
}